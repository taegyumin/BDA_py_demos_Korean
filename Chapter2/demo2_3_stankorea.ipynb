{
 "cells": [
  {
   "cell_type": "markdown",
   "metadata": {},
   "source": [
    "### Bayesian Data Analysis, 3rd ed\n",
    "## Chapter 2, demo 3\n",
    "\n",
    "원저자:\n",
    "- Aki Vehtari <aki.vehtari@aalto.fi>\n",
    "- Tuomas Sivula <tuomas.sivula@aalto.fi>\n",
    "\n",
    "2차저자:\n",
    "- 문현지, 민태규\n",
    "\n",
    "전치태반 여아 출생 가능성(BDA3 p. 37)\n",
    "\n",
    "Beta(438,544)로부터 \n",
    "추출된 표본으로 분위수에 대한 $\\theta$의 히스토그램을 그리고, \n",
    "\n",
    "$\\theta$를 변환한 변수 $\\phi$에 대해서도 동일 작업 반복"
   ]
  },
  {
   "cell_type": "code",
   "execution_count": 124,
   "metadata": {},
   "outputs": [],
   "source": [
    "import numpy as np\n",
    "from scipy.stats import beta\n",
    "%matplotlib inline\n",
    "import matplotlib.pyplot as plt\n",
    "\n",
    "#자주 사용할 plot관련 함수가 있는 plot_tools의 import를 위해 해당 경로를 시스템 경로에 추가\n",
    "import os, sys\n",
    "util_path = os.path.abspath(os.path.join(os.path.pardir, 'utilities_and_data'))\n",
    "if util_path not in sys.path and os.path.exists(util_path):\n",
    "    sys.path.insert(0, util_path)\n",
    "\n",
    "import plot_tools"
   ]
  },
  {
   "cell_type": "markdown",
   "metadata": {},
   "source": [
    "1. $\\theta$ 에 대한 히스토그램과 신용구간 표시"
   ]
  },
  {
   "cell_type": "markdown",
   "metadata": {},
   "source": [
    "사후분포에서 추출한 표본을 바탕으로 얻은 구간을 신용구간이라 하고, 이는 신뢰구간과 차이가 있습니다. 더 자세한 비교는 다음 링크 참고: https://freshrimpsushi.tistory.com/752?category=771947"
   ]
  },
  {
   "cell_type": "markdown",
   "metadata": {},
   "source": [
    "참고로 beta(1,1)은 uniform분포고, $alpha$, $beta$가 커질수록 분산이 작아져 더 informative한 사전분포가 됩니다. "
   ]
  },
  {
   "cell_type": "code",
   "execution_count": 117,
   "metadata": {},
   "outputs": [
    {
     "data": {
      "text/plain": [
       "Text(0.5, 0, '$\\\\theta$')"
      ]
     },
     "execution_count": 117,
     "metadata": {},
     "output_type": "execute_result"
    },
    {
     "data": {
      "image/png": "[encoded data removed]",
      "text/plain": [
       "<Figure size 576x576 with 2 Axes>"
      ]
     },
     "metadata": {
      "needs_background": "light"
     },
     "output_type": "display_data"
    }
   ],
   "source": [
    "# 그리드 설정\n",
    "x = np.linspace(0.36, 0.54, 150)\n",
    "\n",
    "# Beta(438,544)로부터 10000개의 표본을 추출\n",
    "n = 10000\n",
    "th = beta.rvs(438, 544, size=n)  # rvs는 랜덤변수의 의미, 즉 베타분포로부터 추출한 랜덤변수\n",
    "\n",
    "# 2개의 subplot\n",
    "fig, axes = plt.subplots(nrows=2, ncols=1, figsize=(8, 8))\n",
    "# x축만 보여줌\n",
    "plot_tools.modify_axes.only_x(axes)\n",
    "# spacing 조절\n",
    "fig.subplots_adjust(hspace=0.5)\n",
    "\n",
    "#  표본 바탕으로 2.5% 와 97.5% 분위수 추정\n",
    "th25, th975 = np.percentile(th, [2.5, 97.5])\n",
    "axes[0].hist(th, bins=30, color=plot_tools.lighten('C0'))\n",
    "axes[0].set_xlabel(r'$\\theta$')"
   ]
  },
  {
   "cell_type": "code",
   "execution_count": 118,
   "metadata": {
    "scrolled": true
   },
   "outputs": [
    {
     "data": {
      "text/plain": [
       "(0.4158162302863426, 0.4769432047159643)"
      ]
     },
     "execution_count": 118,
     "metadata": {},
     "output_type": "execute_result"
    }
   ],
   "source": [
    "th25, th975"
   ]
  },
  {
   "cell_type": "markdown",
   "metadata": {},
   "source": [
    "0.4155와 0.476이 95% 신용구간이 됩니다. 이 범위를 histgram에 그려보겠습니다."
   ]
  },
  {
   "cell_type": "code",
   "execution_count": 119,
   "metadata": {
    "scrolled": true
   },
   "outputs": [
    {
     "data": {
      "image/png": "[encoded data removed]",
      "text/plain": [
       "<Figure size 576x576 with 2 Axes>"
      ]
     },
     "execution_count": 119,
     "metadata": {},
     "output_type": "execute_result"
    }
   ],
   "source": [
    "axes[0].axvline(th25, color='C1')\n",
    "axes[0].axvline(th975, color='C1')\n",
    "axes[0].text(\n",
    "    th25,\n",
    "    axes[0].get_ylim()[1]+15,\n",
    "    '2.5%',\n",
    "    horizontalalignment='center'\n",
    ")\n",
    "axes[0].text(\n",
    "    th975,\n",
    "    axes[0].get_ylim()[1]+15,\n",
    "    '97.5%',\n",
    "    horizontalalignment='center'\n",
    ")\n",
    "fig"
   ]
  },
  {
   "cell_type": "markdown",
   "metadata": {},
   "source": [
    "2. $\\phi$ 에 대한 히스토그램과 신용구간 표시"
   ]
  },
  {
   "cell_type": "markdown",
   "metadata": {},
   "source": [
    "$theta$/(1-$theta$) 변환을 통해 정규근사 가정을 더 잘 만족하는 변수 $\\phi$를 만들 수 있습니다 (BDA p.37).\n",
    "\n",
    "해당 변수에 대해 히스토그램과 신용구간을 구해보고 $theta$와 비교해봅니다."
   ]
  },
  {
   "cell_type": "code",
   "execution_count": 120,
   "metadata": {},
   "outputs": [
    {
     "data": {
      "image/png": "[encoded data removed]",
      "text/plain": [
       "<Figure size 576x576 with 2 Axes>"
      ]
     },
     "execution_count": 120,
     "metadata": {},
     "output_type": "execute_result"
    }
   ],
   "source": [
    "phi = (1-th)/th\n",
    "axes[1].hist(phi, bins=30, color=plot_tools.lighten('C0'))\n",
    "\n",
    "# 표본 바탕으로 2.5% 와 97.5% 분위수 추정\n",
    "phi25, phi975 = np.percentile(phi, [2.5, 97.5])\n",
    "\n",
    "# 분위수 표시\n",
    "axes[1].axvline(phi25, color='C1')\n",
    "axes[1].axvline(phi975, color='C1')\n",
    "axes[1].text(\n",
    "    phi25,\n",
    "    axes[1].get_ylim()[1]+15,\n",
    "    '2.5%',\n",
    "     horizontalalignment='center'\n",
    ")\n",
    "axes[1].text(\n",
    "    phi975,\n",
    "    axes[1].get_ylim()[1]+15,\n",
    "    '97.5%',\n",
    "    horizontalalignment='center'\n",
    ")\n",
    "axes[1].set_xlabel(r'$\\phi$');\n",
    "fig"
   ]
  },
  {
   "cell_type": "code",
   "execution_count": 121,
   "metadata": {},
   "outputs": [
    {
     "data": {
      "text/plain": [
       "(1.0966857062147919, 1.4049085321270756)"
      ]
     },
     "execution_count": 121,
     "metadata": {},
     "output_type": "execute_result"
    }
   ],
   "source": [
    "phi25, phi975"
   ]
  },
  {
   "cell_type": "markdown",
   "metadata": {},
   "source": [
    "유럽 평균인 1.06보다 큰 값에서 신용구간이 형성됩니다."
   ]
  }
 ],
 "metadata": {
  "kernelspec": {
   "display_name": "Python 3",
   "language": "python",
   "name": "python3"
  },
  "language_info": {
   "codemirror_mode": {
    "name": "ipython",
    "version": 3
   },
   "file_extension": ".py",
   "mimetype": "text/x-python",
   "name": "python",
   "nbconvert_exporter": "python",
   "pygments_lexer": "ipython3",
   "version": "3.7.2"
  }
 },
 "nbformat": 4,
 "nbformat_minor": 1
}

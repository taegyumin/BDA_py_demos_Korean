{
 "cells": [
  {
   "cell_type": "markdown",
   "metadata": {},
   "source": [
    "### Bayesian Data Analysis, 3rd ed\n",
    "## Chapter 2, demo 1\n",
    "\n",
    "원저자:\n",
    "- Aki Vehtari <aki.vehtari@aalto.fi>\n",
    "- Tuomas Sivula <tuomas.sivula@aalto.fi>\n",
    "\n",
    "2차저자:\n",
    "- 문현지,민태규\n",
    "\n",
    "Probability of a girl birth given placenta previa (BDA3 p. 37).\n",
    "437 girls and 543 boys have been observed. Calculate and plot the posterior distribution of the proportion of girls $\\theta $, using\n",
    "uniform prior on $\\theta $."
   ]
  },
  {
   "cell_type": "code",
   "execution_count": 1,
   "metadata": {
    "collapsed": true
   },
   "outputs": [],
   "source": [
    "# 필요한 패키지들을 import합니다.\n",
    "\n",
    "# plotting\n",
    "%matplotlib inline\n",
    "import matplotlib.pyplot as plt\n",
    "\n",
    "# fast array routines for numerical calculation\n",
    "import numpy as np\n",
    "# scipy contains various scietific tools, such as beta distribution\n",
    "from scipy.stats import beta"
   ]
  },
  {
   "cell_type": "code",
   "execution_count": 2,
   "metadata": {
    "collapsed": true
   },
   "outputs": [],
   "source": [
    "# add utilities directory to path\n",
    "import os, sys\n",
    "util_path = os.path.abspath(os.path.join(os.path.pardir, 'utilities_and_data'))\n",
    "if util_path not in sys.path and os.path.exists(util_path):\n",
    "    sys.path.insert(0, util_path)\n",
    "\n",
    "# import from utilities\n",
    "import plot_tools"
   ]
  },
  {
   "cell_type": "code",
   "execution_count": 3,
   "metadata": {
    "collapsed": true
   },
   "outputs": [],
   "source": [
    "# 기본 plot 세팅을 변경하겠습니다. 폰트 사이즈를 12로 설정합니다.\n",
    "plt.rc('font', size=12)"
   ]
  },
  {
   "cell_type": "markdown",
   "metadata": {},
   "source": [
    "The posterior distribution is Beta(438, 544). Plot the distribution."
   ]
  },
  {
   "cell_type": "code",
   "execution_count": 24,
   "metadata": {},
   "outputs": [
    {
     "name": "stdout",
     "output_type": "stream",
     "text": [
      "Uniform prior -> Posterior is Beta(438,544)\n"
     ]
    },
    {
     "data": {
      "text/plain": [
       "<matplotlib.text.Text at 0x1062dc630>"
      ]
     },
     "execution_count": 24,
     "metadata": {},
     "output_type": "execute_result"
    },
    {
     "data": {
      "image/png": "[encoded data removed]",
      "text/plain": [
       "<matplotlib.figure.Figure at 0x1a13d345c0>"
      ]
     },
     "metadata": {},
     "output_type": "display_data"
    }
   ],
   "source": [
    "#그래프를 그릴 겁니다. x축의 시작점을 0.36, 끝점을 0.54로 설정하고, 총 80개의 점(표본)을 찍을 건데, \n",
    "x = np.linspace(0.36, 0.54, 80)\n",
    "\n",
    "#주어진 파라미터는 다음과 같습니다: alpha = 438, beta = 544\n",
    "#이 값을 파라미터로 갖는 베타분포를 만듭니다.\n",
    "dist = beta(438, 544)\n",
    "\n",
    "# 위 베타분포의 확률밀도함수를 \n",
    "pd = dist.pdf(x)\n",
    "\n",
    "print('Uniform prior -> Posterior is Beta(438,544)')\n",
    "\n",
    "# 위 베타분포의 확률밀도함수를 좌표평면 상에 그래프로 나타냅니다.\n",
    "plt.plot(x, pd)\n",
    "\n",
    "# 그래프를 깔끔하게 만들고 싶습니다. x축만 보이고, 나머지는 안 보이도록 합니다.\n",
    "plot_tools.modify_axes.only_x()\n",
    "\n",
    "# annotate the line\n",
    "plt.annotate(\n",
    "    r'$p(\\theta|y,n)$',\n",
    "    (x[35] - 0.005, pd[35]),\n",
    "    ha='right'  # horizontalalignment\n",
    ")\n",
    "\n",
    "# 전체 인구중 여아의 비율을 수직선으로 나타냅니다.\n",
    "# ``color='C1'`` corresponds to default color #2\n",
    "plt.axvline(0.485, color='C1')\n",
    "\n",
    "#수직선 약간(0.005만큼) 오른쪽에 수직선에 대한 설명을 써넣습니다.\n",
    "plt.annotate(\n",
    "    'proportion in general\\npopulation',\n",
    "    (0.485 + 0.005, 14),\n",
    "    ha='left' #왼쪽 정렬\n",
    ")\n",
    "\n",
    "#ppf는 percent point function의 약자로, ppf는 누적분포함수(CDF)의 역함수입니다.\n",
    "#하위 2.5%, 상위 2.5%(하위 97.5%)에 해당하는 x값의 범위를 찾습니다.\n",
    "x_95_idx = (x > dist.ppf(0.025)) & (x < dist.ppf(0.975))\n",
    "\n",
    "# 그래프에서 신용구간 95%에 해당하는 부분을 음영처리합니다.\n",
    "plt.fill_between(x[x_95_idx], pd[x_95_idx], color='0.92')\n",
    "\n",
    "#음영처리된 부분의 (중앙값, 8)위치에 '95%'라고 써넣습니다. 정렬방식은 '가운데 정렬'입니다.\n",
    "plt.text(dist.median(), 8, \"95%\", horizontalalignment='center')\n",
    "\n",
    "# x축에 세타 기호를 입력합니다.\n",
    "plt.xlabel(r'$\\theta$')\n",
    "\n",
    "# 데이터에 알맞게 x축 길이를 조정합니다.(큰 변화는 없습니다만)\n",
    "plt.autoscale(axis='x', tight=True);\n",
    "# 주의: (바로 윗줄) 마지막에 써넣은 세미콜론 ;은 jupyter notebook에서 autoscale 함수 실행시 return값이 출력되는 걸 방지하기 위함."
   ]
  },
  {
   "cell_type": "code",
   "execution_count": null,
   "metadata": {
    "collapsed": true
   },
   "outputs": [],
   "source": []
  }
 ],
 "metadata": {
  "kernelspec": {
   "display_name": "Python 3",
   "language": "python",
   "name": "python3"
  },
  "language_info": {
   "codemirror_mode": {
    "name": "ipython",
    "version": 3
   },
   "file_extension": ".py",
   "mimetype": "text/x-python",
   "name": "python",
   "nbconvert_exporter": "python",
   "pygments_lexer": "ipython3",
   "version": "3.6.3"
  }
 },
 "nbformat": 4,
 "nbformat_minor": 1
}

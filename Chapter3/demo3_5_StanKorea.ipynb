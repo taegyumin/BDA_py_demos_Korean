{
 "cells": [
  {
   "cell_type": "markdown",
   "metadata": {},
   "source": [
    "### Bayesian Data Analysis, 3rd ed\n",
    "##  Chapter 3, demo 5\n",
    "\n",
    "원저자:\n",
    "\n",
    "- Aki Vehtari aki.vehtari@aalto.fi\n",
    "- Tuomas Sivula tuomas.sivula@aalto.fi\n",
    "2차저자:\n",
    "\n",
    "- 문현지, 민태규\n",
    "\n",
    "Newcomb's data로 정규분포 모형의 사후분포 구하기 (BDA3 p. 66)."
   ]
  },
  {
   "cell_type": "markdown",
   "metadata": {},
   "source": [
    "BDA 66페이지에 소개된 Simon Newcomb의 빛속도 추정을 위해 빛이 7442m를 이동하는데 걸린 시간의 사후분포를 추정하는 것이 목적입니다.\n",
    "analytical한 방식과 simulation을 이용한 방식이 있습니다.\n",
    "\n",
    "전자는 t분포 주변부밀도사후함수를 이용해 µ의 범위를 y ± 1.997s/ 66 = [23.6, 28.8]로 얻었고,\n",
    "후자는 σ 2 ∼ Inv-χ 2 (65, s 2 )에서 σ를 샘플링 후 조건부사후분포 N(26.2, σ 2 /66)에서 µ를 샘플링하는 방식으로 [23.6, 28.9]를 얻었습니다."
   ]
  },
  {
   "cell_type": "code",
   "execution_count": 20,
   "metadata": {},
   "outputs": [],
   "source": [
    "# 초기 세팅\n",
    "import numpy as np\n",
    "from scipy import stats\n",
    "%matplotlib inline\n",
    "import matplotlib.pyplot as plt\n",
    "import os, sys\n",
    "util_path = os.path.abspath(os.path.join(os.path.pardir, 'utilities_and_data'))\n",
    "if util_path not in sys.path and os.path.exists(util_path):\n",
    "    sys.path.insert(0, util_path)\n",
    "import plot_tools\n",
    "plt.rc('font', size=12)\n",
    "plt.style.use(plot_tools.custom_styles['gray_background'])\n",
    "\n",
    "# 데이터\n",
    "data_path = os.path.abspath(\n",
    "    os.path.join(\n",
    "        os.path.pardir,\n",
    "        'utilities_and_data',\n",
    "        'light.txt'\n",
    "    )\n",
    ")\n",
    "y = np.loadtxt(data_path)"
   ]
  },
  {
   "cell_type": "markdown",
   "metadata": {},
   "source": [
    "## 1. analytical한 방식"
   ]
  },
  {
   "cell_type": "markdown",
   "metadata": {},
   "source": [
    "(µ, log σ)에 대한 무정보 uniform 사전분포 상황에서 µ의 사후분포는 다음과 같습니다 (p.66)."
   ]
  },
  {
   "cell_type": "markdown",
   "metadata": {},
   "source": [
    "$$\n",
    "\\frac{\\bar{y}-\\mu}{s / \\sqrt{n}} | \\mu \\sim t_{n-1}\n",
    "$$"
   ]
  },
  {
   "cell_type": "markdown",
   "metadata": {},
   "source": [
    "66개의 y데이터\n",
    "\n",
    "64개의 y_pos데이터: y > 0라는 조건이 주어졌을때(filtering)\n",
    "\n",
    "두 경우에 대해 사후분포를 구합니다."
   ]
  },
  {
   "cell_type": "code",
   "execution_count": 21,
   "metadata": {},
   "outputs": [],
   "source": [
    "# 원본 데이터\n",
    "\n",
    "# 충분통계량 s2와 my\n",
    "n = len(y)\n",
    "s2 = np.var(y, ddof=1) # ddof=1 -> 표본 추정값이므로 N-1 로 나눠야 unbiased\n",
    "my = np.mean(y)\n",
    "\n",
    "# 0기준 filtering\n",
    "y_pos = y[y > 0]\n",
    "\n",
    "n_pos = len(y_pos)\n",
    "s2_pos = np.var(y_pos, ddof=1) # ddof=1 -> 표본 추정값이므로 N-1 로 나눠야 unbiased\n",
    "my_pos = np.mean(y_pos)\n",
    "\n",
    "# mu의 범위 설정\n",
    "tl1 = [10, 40]\n",
    "t1 = np.linspace(tl1[0], tl1[1], 100)\n",
    "\n",
    "# mu의 주변부분포의 계산\n",
    "pm_mu = stats.t.pdf((t1 - my) / np.sqrt(s2/n), n-1) / np.sqrt(s2/n)\n",
    "\n",
    "# filtered 데이터의 mu값의 정확한 주변부밀도 계산 \n",
    "pm_mu_pos = (\n",
    "    stats.t.pdf((t1 - my_pos) / np.sqrt(s2_pos/n_pos), n_pos-1) /\n",
    "    np.sqrt(s2_pos/n_pos)\n",
    ")"
   ]
  },
  {
   "cell_type": "code",
   "execution_count": 22,
   "metadata": {
    "scrolled": true
   },
   "outputs": [
    {
     "data": {
      "image/png": "[encoded data removed]",
      "text/plain": [
       "<Figure size 576x576 with 2 Axes>"
      ]
     },
     "metadata": {
      "needs_background": "light"
     },
     "output_type": "display_data"
    }
   ],
   "source": [
    "# Plotting\n",
    "\n",
    "fig, axes = plt.subplots(2, 1, sharex = True, figsize = (8,8))\n",
    "\n",
    "# 히스토그램\n",
    "ax = axes[0]\n",
    "ax.hist(y, np.arange(-44, 43, 2))\n",
    "\n",
    "ax.set_title('Newcomb\\'s measurements')\n",
    "ax.set_ylabel('count')\n",
    "ax.set_xlabel('$\\mu$')\n",
    "plt.setp(axes[0].get_xticklabels(), visible=True)\n",
    "\n",
    "# mu의 사후분포 plot\n",
    "ax = axes[1]\n",
    "ax.plot(t1, pm_mu)\n",
    "\n",
    "# filtered된 데이터로 mu의 사후분포 plot\n",
    "ax.plot(t1, pm_mu_pos)\n",
    "# Plot the currently accepted true value\n",
    "ax.axvline(33, color='k', linestyle='--')\n",
    "ax.legend(\n",
    "    ('posterior of $\\mu$',\n",
    "     'posterior of $\\mu$ given $y > 0$',\n",
    "     '\"true value\"'),\n",
    "    loc='upper left'\n",
    ")\n",
    "ax.set_title('Normal model')\n",
    "ax.set_xlabel('$\\mu$')\n",
    "ax.set_yticks(())\n",
    "\n",
    "fig.tight_layout()"
   ]
  }
 ],
 "metadata": {
  "kernelspec": {
   "display_name": "Python 3",
   "language": "python",
   "name": "python3"
  },
  "language_info": {
   "codemirror_mode": {
    "name": "ipython",
    "version": 3
   },
   "file_extension": ".py",
   "mimetype": "text/x-python",
   "name": "python",
   "nbconvert_exporter": "python",
   "pygments_lexer": "ipython3",
   "version": "3.7.2"
  }
 },
 "nbformat": 4,
 "nbformat_minor": 1
}
